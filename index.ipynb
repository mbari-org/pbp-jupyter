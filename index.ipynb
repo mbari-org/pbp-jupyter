{
 "cells": [
  {
   "cell_type": "code",
   "execution_count": null,
   "id": "26a63014-c654-4dc2-9ad8-b5b11f57e756",
   "metadata": {},
   "outputs": [],
   "source": [
    "import pbp"
   ]
  },
  {
   "cell_type": "code",
   "execution_count": null,
   "id": "ee914b5e-843e-4a63-b64c-787bf1218e1e",
   "metadata": {},
   "outputs": [],
   "source": [
    "pbp.get_pbp_version(), pbp.get_pypam_version()"
   ]
  },
  {
   "cell_type": "code",
   "execution_count": null,
   "id": "c0afb02a-2410-4cae-b6f3-a54de1bad455",
   "metadata": {},
   "outputs": [],
   "source": []
  }
 ],
 "metadata": {
  "kernelspec": {
   "display_name": "Python 3 (ipykernel)",
   "language": "python",
   "name": "python3"
  },
  "language_info": {
   "codemirror_mode": {
    "name": "ipython",
    "version": 3
   },
   "file_extension": ".py",
   "mimetype": "text/x-python",
   "name": "python",
   "nbconvert_exporter": "python",
   "pygments_lexer": "ipython3",
   "version": "3.10.14"
  }
 },
 "nbformat": 4,
 "nbformat_minor": 5
}
