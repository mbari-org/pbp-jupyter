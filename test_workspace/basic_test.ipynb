{
 "cells": [
  {
   "cell_type": "markdown",
   "id": "f31f8988-0038-4d64-8701-15945222bead",
   "metadata": {},
   "source": [
    "### A simple notebook to verify the included mbari-pbp package"
   ]
  },
  {
   "cell_type": "code",
   "execution_count": null,
   "id": "07ff3a18-4a2f-4e11-9044-4149ce47d79b",
   "metadata": {},
   "outputs": [],
   "source": [
    "import pbp\n",
    "print(f\"PBP version   : {pbp.get_pbp_version()}\")\n",
    "print(f\"PyPAM version : {pbp.get_pypam_version()}\")"
   ]
  }
 ],
 "metadata": {
  "kernelspec": {
   "display_name": "Python 3 (ipykernel)",
   "language": "python",
   "name": "python3"
  },
  "language_info": {
   "codemirror_mode": {
    "name": "ipython",
    "version": 3
   },
   "file_extension": ".py",
   "mimetype": "text/x-python",
   "name": "python",
   "nbconvert_exporter": "python",
   "pygments_lexer": "ipython3",
   "version": "3.11.9"
  }
 },
 "nbformat": 4,
 "nbformat_minor": 5
}
